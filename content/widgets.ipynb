{
 "cells": [
  {
   "cell_type": "code",
   "execution_count": null,
   "id": "14d5c428-e7d1-4b48-b680-df614d6f52dc",
   "metadata": {},
   "outputs": [],
   "source": [
    "import ipywidgets as widgets\n",
    "import pandas as pd\n",
    "import sqlalchemy as sa\n",
    "\n",
    "import pathlib\n",
    "\n",
    "from IPython.display import display, HTML"
   ]
  },
  {
   "cell_type": "code",
   "execution_count": 4,
   "id": "e7e5a252-d74d-45fd-a3f7-81c299979ccb",
   "metadata": {},
   "outputs": [
    {
     "data": {
      "text/plain": [
       "WindowsPath('C:/Users/DominicHunt/OneDrive - Corndel Ltd/Projects/Pyodide')"
      ]
     },
     "execution_count": 4,
     "metadata": {},
     "output_type": "execute_result"
    }
   ],
   "source": [
    "cwd = pathlib.Path.cwd()\n",
    "folder_path = cwd\n",
    "#[f for f in folder_path.glob('*/*')]"
   ]
  },
  {
   "cell_type": "code",
   "execution_count": 5,
   "id": "9cfcd689-c0b0-4961-ad90-9573e950097d",
   "metadata": {},
   "outputs": [
    {
     "data": {
      "application/vnd.jupyter.widget-view+json": {
       "model_id": "965003520b5c41c89e6dc64d5136a516",
       "version_major": 2,
       "version_minor": 0
      },
      "text/plain": [
       "Image(value=b'\\x89PNG\\r\\n\\x1a\\n\\x00\\x00\\x00\\rIHDR\\x00\\x00\\x07\\x9e\\x00\\x00\\x04e\\x08\\x03\\x00\\x00\\x00Vz\\x9b\\x03\\x…"
      ]
     },
     "execution_count": 5,
     "metadata": {},
     "output_type": "execute_result"
    }
   ],
   "source": [
    "#with open(folder_path / \"Pagilla ERD v3.png\", \"rb\") as file:\n",
    "#    image = file.read()\n",
    "#widgets.Image(\n",
    "#    value=image,\n",
    "#    format='png',\n",
    "#    width=900,\n",
    "#    height=900,\n",
    "#)"
   ]
  },
  {
   "cell_type": "code",
   "execution_count": 6,
   "id": "e23e90e7-214e-4ef4-97dd-7ea84d398de1",
   "metadata": {},
   "outputs": [],
   "source": [
    "class Joining_elements:\n",
    " \n",
    "    def __init__(self):\n",
    "        self.engine = sa.create_engine(f'sqlite:///{folder_path}/database/pagilla.db', echo=False)\n",
    "        self.conn = self.engine.connect()\n",
    "        self.tables = self.get_tables()\n",
    "        self.table_columns = self.get_table_details()\n",
    "        \n",
    "        self.valid_joins = ['LEFT JOIN', 'RIGHT JOIN', 'INNER JOIN', 'CROSS JOIN']\n",
    "        \n",
    "        self.left_table = self.tables[0]\n",
    "        self.right_table = self.tables[0]\n",
    "        self.left_column = self.table_columns[self.left_table][0]\n",
    "        self.right_column = self.table_columns[self.right_table][0]\n",
    "        self.join_type = self.valid_joins[0]\n",
    "        \n",
    "        self.left_table_df = self.get_table(self.left_table)\n",
    "        self.right_table_df = self.get_table(self.right_table)\n",
    "        self.join_table_df, self.query_SQL = self.get_join_table()\n",
    "        \n",
    "    def get_tables(self):\n",
    "        inspector = sa.inspect(self.engine)\n",
    "        tables = inspector.get_table_names()\n",
    "        return tables\n",
    "    \n",
    "    def get_table_details(self):\n",
    "        m = sa.MetaData()\n",
    "        m.reflect(self.engine)\n",
    "        table_columns = {name: table.columns.keys() for name, table in m.tables.items()}\n",
    "        return table_columns\n",
    "    \n",
    "    def get_table(self, table_name):\n",
    "        table = pd.read_sql(f'SELECT * FROM {table_name}', con=self.engine)\n",
    "        return table\n",
    "    \n",
    "    def get_join_table(self): \n",
    "        join_type = self.join_type\n",
    "        if join_type == 'CROSS JOIN':\n",
    "            sql = f\"SELECT * FROM {self.left_table} as l {join_type} {self.right_table} as r\"\n",
    "        else:\n",
    "            sql = f\"SELECT * FROM {self.left_table} as l {join_type} {self.right_table} as r ON l.{self.left_column} = r.{self.right_column}\"\n",
    "        #print(s)\n",
    "        join_table = pd.read_sql(sql, con=self.engine)\n",
    "        #join_table = pd.read_sql(f\"SELECT * FROM {left} as l {join} {right} as r ON l.{on_left} = r.{on_right}\", con=self.engine)\n",
    "        return join_table, sql\n",
    "    \n",
    "    def update_left_table(self, table_name):\n",
    "        if table_name in self.tables:\n",
    "            self.left_table = table_name\n",
    "            table_df = self.get_table(table_name)\n",
    "            self.left_table_df = table_df\n",
    "            table_columns = self.table_columns[table_name]\n",
    "            self.left_column = table_columns[0]\n",
    "            self.join_table_df, self.query_SQL = self.get_join_table()\n",
    "            \n",
    "            return table_df, table_columns, self.left_column, self.join_table_df, self.query_SQL\n",
    "        else:\n",
    "            return pd.DataFrame(), [], '', pd.DataFrame(), ''\n",
    "        \n",
    "    def update_right_table(self, table_name):\n",
    "        if table_name in self.tables:\n",
    "            self.right_table = table_name\n",
    "            table_df = self.get_table(table_name)\n",
    "            self.right_table_df = table_df\n",
    "            table_columns = self.table_columns[table_name]\n",
    "            self.right_column = table_columns[0]\n",
    "            self.join_table_df, self.query_SQL = self.get_join_table()\n",
    "            \n",
    "            return table_df, table_columns, self.right_column, self.join_table_df, self.query_SQL\n",
    "        else:\n",
    "            return pd.DataFrame(), [], '', pd.DataFrame(), ''\n",
    "        \n",
    "    def update_left_column(self, column_name):\n",
    "        possible_columns = self.table_columns[self.left_table]\n",
    "        if column_name in possible_columns:\n",
    "            self.left_column = column_name\n",
    "            self.join_table_df, self.query_SQL = self.get_join_table()\n",
    "            \n",
    "            return self.join_table_df, self.query_SQL\n",
    "        else:\n",
    "            return pd.DataFrame(), ''\n",
    "        \n",
    "    def update_right_column(self, column_name):\n",
    "        possible_columns = self.table_columns[self.right_table]\n",
    "        if column_name in possible_columns:\n",
    "            self.right_column = column_name\n",
    "            self.join_table_df, self.query_SQL = self.get_join_table()\n",
    "            \n",
    "            return self.join_table_df, self.query_SQL\n",
    "        else:\n",
    "            return pd.DataFrame(), ''\n",
    "    \n",
    "    def update_join_type(self, join_name):\n",
    "        if join_name in self.valid_joins:\n",
    "            self.join_type = join_name\n",
    "            self.join_table_df, self.query_SQL = self.get_join_table()\n",
    "        \n",
    "            return self.join_table_df, self.query_SQL\n",
    "        else:\n",
    "            return pd.DataFrame(), ''\n",
    "            \n",
    "            \n",
    "    def __del__(self):\n",
    "        self.conn.close()"
   ]
  },
  {
   "cell_type": "code",
   "execution_count": 7,
   "id": "afca7388-f8d5-4ff0-ae70-037c556600d9",
   "metadata": {},
   "outputs": [],
   "source": [
    "data_tables = Joining_elements()"
   ]
  },
  {
   "cell_type": "code",
   "execution_count": 8,
   "id": "326afd07-60ba-44b9-ba14-4d5d8f21a61a",
   "metadata": {},
   "outputs": [],
   "source": [
    "left_drop = widgets.Dropdown(options=data_tables.tables,\n",
    "                             value=data_tables.left_table,\n",
    "                             description='Left table:',\n",
    "                             disabled=False,\n",
    "                            )\n",
    "right_drop = widgets.Dropdown(options=data_tables.tables,\n",
    "                              value=data_tables.right_table,\n",
    "                              description='Right table:',\n",
    "                              disabled=False,\n",
    "                             )\n",
    "left_columns_drop = widgets.Dropdown(options=data_tables.table_columns[left_drop.value],\n",
    "                                     value=data_tables.left_column,\n",
    "                             description='Left columns:',\n",
    "                             disabled=False,\n",
    "                            )\n",
    "right_columns_drop = widgets.Dropdown(options=data_tables.table_columns[right_drop.value],\n",
    "                                      value=data_tables.right_column,\n",
    "                             description='Right columns:',\n",
    "                             disabled=False,\n",
    "                            )"
   ]
  },
  {
   "cell_type": "code",
   "execution_count": 17,
   "id": "6a234aa9-b977-4fef-b49f-f9fa0f3e7c7f",
   "metadata": {},
   "outputs": [],
   "source": [
    "join_type_drop = widgets.Dropdown(options=data_tables.valid_joins,\n",
    "                                  value=data_tables.join_type,\n",
    "                                  description='Join type:',\n",
    "                                  disabled=False,\n",
    "                                 )\n",
    "query_text = widgets.Label(value=data_tables.query_SQL,\n",
    "                                 #placeholder='',\n",
    "                                 #description='',\n",
    "                                 #width='100%',\n",
    "                                 disabled=True   \n",
    "                                )\n",
    "right_text = widgets.Text(value=\"  \",\n",
    "                                  placeholder='',\n",
    "                                  description='',\n",
    "                                  disabled=True   \n",
    "                                 )"
   ]
  },
  {
   "cell_type": "code",
   "execution_count": null,
   "id": "f55aed7f-174f-4c41-a0f0-ca39f7fe943e",
   "metadata": {},
   "outputs": [],
   "source": []
  },
  {
   "cell_type": "code",
   "execution_count": 18,
   "id": "15570938-ab21-4904-8682-367e03899615",
   "metadata": {},
   "outputs": [],
   "source": [
    "#pd.read_sql(f\"SELECT * FROM actor as l CROSS JOIN address as r\", con=engine)"
   ]
  },
  {
   "cell_type": "code",
   "execution_count": 19,
   "id": "f9a3dd5f-9ba2-4557-b2d8-421551aaba48",
   "metadata": {},
   "outputs": [],
   "source": [
    "#left_table, right_table, join_table = data_tables(engine, left_drop.value, right_drop.value, join_drop.value, join_type_drop.value)\n",
    "out_left = widgets.Output()\n",
    "with out_left:\n",
    "        display(data_tables.left_table_df, clear=True)\n",
    "        \n",
    "out_right = widgets.Output()\n",
    "with out_right:\n",
    "        display(data_tables.right_table_df, clear=True)\n",
    "        \n",
    "out_join = widgets.Output()\n",
    "with out_join:\n",
    "        display(data_tables.join_table_df, clear=True)"
   ]
  },
  {
   "cell_type": "code",
   "execution_count": 20,
   "id": "72074029-7b6d-4267-84e8-4e99554bf1d0",
   "metadata": {},
   "outputs": [],
   "source": [
    "def left_table_change(change):\n",
    "    left_table, left_columns_drop.options, left_columns_drop.value, join_table, query_text.value = data_tables.update_left_table(change.new)\n",
    "    \n",
    "    with out_left:\n",
    "        display(left_table, clear=True)\n",
    "    with out_join:\n",
    "        display(join_table, clear=True)\n",
    "        \n",
    "def right_table_change(change):\n",
    "    right_table, right_columns_drop.options, right_columns_drop.value, join_table, query_text.value = data_tables.update_right_table(change.new)\n",
    "    with out_right:\n",
    "        display(right_table, clear=True)\n",
    "    with out_join:\n",
    "        display(join_table, clear=True)\n",
    "        \n",
    "def left_column_change(change):\n",
    "    join_table, query_text.value = data_tables.update_left_column(change.new)\n",
    "    with out_join:\n",
    "        display(join_table, clear=True)\n",
    "        \n",
    "def right_column_change(change):\n",
    "    join_table, query_text.value = data_tables.update_right_column(change.new)\n",
    "    with out_join:\n",
    "        display(join_table, clear=True)\n",
    "    \n",
    "def join_change(change):\n",
    "    join_table, query_text.value = data_tables.update_join_type(change.new)\n",
    "    with out_join:\n",
    "        display(join_table, clear=True)\n",
    "\n",
    "\n",
    "left_drop.observe(left_table_change, names='value')\n",
    "right_drop.observe(right_table_change, names='value')\n",
    "left_columns_drop.observe(left_column_change, names='value')\n",
    "right_columns_drop.observe(right_column_change, names='value')\n",
    "join_type_drop.observe(join_change, names='value')"
   ]
  },
  {
   "cell_type": "code",
   "execution_count": 24,
   "id": "a7d780b2-b2bb-4074-94a4-8d5e6840dca1",
   "metadata": {},
   "outputs": [],
   "source": [
    "#display(, )\n",
    "#display(widgets.VBox([widgets.HBox([left_drop, left_columns_drop]),\n",
    "#                      widgets.HBox([right_drop, right_columns_drop]),\n",
    "#                      join_type_drop]))"
   ]
  },
  {
   "cell_type": "code",
   "execution_count": 22,
   "id": "4434a7bc-1e80-4954-a494-329b35d6f479",
   "metadata": {},
   "outputs": [
    {
     "data": {
      "application/vnd.jupyter.widget-view+json": {
       "model_id": "bbbaadc671fd4c378ce06e3a2b4c1304",
       "version_major": 2,
       "version_minor": 0
      },
      "text/plain": [
       "VBox(children=(Dropdown(description='Left table:', options=('actor', 'address', 'category', 'city', 'country',…"
      ]
     },
     "execution_count": 22,
     "metadata": {},
     "output_type": "execute_result"
    }
   ],
   "source": [
    "#widgets.VBox([left_drop, left_columns_drop, out_left, right_drop, right_columns_drop, out_right, join_type_drop, query_text, out_join])"
   ]
  },
  {
   "cell_type": "code",
   "execution_count": 23,
   "id": "0d9506f0-423a-4b4e-a97b-e39383533341",
   "metadata": {},
   "outputs": [
    {
     "data": {
      "application/vnd.jupyter.widget-view+json": {
       "model_id": "c5fb900dd6a2448aa3718e4c45819daa",
       "version_major": 2,
       "version_minor": 0
      },
      "text/plain": [
       "HBox(children=(VBox(children=(Dropdown(description='Left table:', options=('actor', 'address', 'category', 'ci…"
      ]
     },
     "execution_count": 23,
     "metadata": {},
     "output_type": "execute_result"
    }
   ],
   "source": [
    "widgets.HBox([widgets.VBox([left_drop, left_columns_drop, out_left]),\n",
    "              widgets.VBox([join_type_drop, query_text, out_join]),\n",
    "              widgets.VBox([right_drop, right_columns_drop, out_right]),\n",
    "             ])"
   ]
  }
 ],
 "metadata": {
  "kernelspec": {
   "display_name": "Python 3 (ipykernel)",
   "language": "python",
   "name": "python3"
  },
  "language_info": {
   "codemirror_mode": {
    "name": "ipython",
    "version": 3
   },
   "file_extension": ".py",
   "mimetype": "text/x-python",
   "name": "python",
   "nbconvert_exporter": "python",
   "pygments_lexer": "ipython3",
   "version": "3.9.16"
  }
 },
 "nbformat": 4,
 "nbformat_minor": 5
}
